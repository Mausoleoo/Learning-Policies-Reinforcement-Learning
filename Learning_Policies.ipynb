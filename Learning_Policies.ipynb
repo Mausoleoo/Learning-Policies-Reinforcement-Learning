{
 "cells": [
  {
   "cell_type": "code",
   "execution_count": 1,
   "metadata": {},
   "outputs": [],
   "source": [
    "import numpy as np"
   ]
  },
  {
   "cell_type": "markdown",
   "metadata": {},
   "source": [
    "## Part 1"
   ]
  },
  {
   "cell_type": "markdown",
   "metadata": {},
   "source": [
    "Consider a simple 5 × 5 gridworld problem, described below. This is the simplest abstraction of a reinforcement learning problem that allows us to benchmark and compare various learning algorithms to one another and is known as the ‘gridworld’ environment."
   ]
  },
  {
   "attachments": {
    "image.png": {
     "image/png": "[encoded data removed]"
    }
   },
   "cell_type": "markdown",
   "metadata": {},
   "source": [
    "![image.png](attachment:image.png)"
   ]
  },
  {
   "cell_type": "markdown",
   "metadata": {},
   "source": [
    "Each of the 25 cells of the gridworld represent a possible state of the world. An agent in the gridworld environment can take a step up, down, left or right. If the agent attempts to step off the grid, the location of the agent remains unchanged.\n",
    "\n",
    "The blue, green, red and yellow squares represent special states at which the behaviour of the system is as follows. At the blue square, any action yields a reward of 5 and causes the agent to jump to the red square. At the green square, any action yields a reward of 2.5 and causes the agent to jump to either the yellow square or the red square with probability 0.5.\n",
    "\n",
    "An attempt to step off the grid yields a reward of −0.5 and any move from a white square to another white square yields a reward of 0. Intuitively, an agent with a good policy should try to find the states with a high value, and exploit the rewards available at those states.\n",
    "\n",
    "1. Consider a reward discount of γ = 0.95 and a policy which simply moves to one of the four directions with equal probability of 0.25. Estimate the value function for each of the states using (1) solving the system of Bellman equations explicitly (2) iterative policy evaluation (3) value iteration. Which states have the highest value? Does this surprise you?\n",
    "\n",
    "2. Determine the optimal policy for the gridworld problem by (1) explicitly solving the Bellman optimality equation (2) using policy iteration with iterative policy evaluation (3) policy improvement with value iteration.\n"
   ]
  },
  {
   "cell_type": "code",
   "execution_count": 2,
   "metadata": {},
   "outputs": [],
   "source": [
    "Grid_size = 5\n",
    "\n",
    "gridworld = np.zeros((Grid_size, Grid_size)) #Row, Columns\n",
    "\n",
    "#Blue Square\n",
    "gridworld[0][1] = 5 #Jump to Red\n",
    "\n",
    "#Green Square\n",
    "gridworld[0][4] = 2.5 #Jump to Yellow or Red with probability 0.5\n",
    "\n",
    "step = np.array([[-1,0],[1,0],[0,-1],[0,1]]) #Up, #Down, #Left, #Right\n",
    "\n",
    "Yellow_Red = np.array([[4,4],[3,2]])\n",
    "\n",
    "gamma = 0.95"
   ]
  },
  {
   "cell_type": "code",
   "execution_count": 3,
   "metadata": {},
   "outputs": [],
   "source": [
    "def Reward_And_Transition(Current_Step, Action):\n",
    "\n",
    "    if Current_Step == [0,1]:\n",
    "        Next_Step = [3,2]\n",
    "        Reward = 5\n",
    "        return  Next_Step, Reward\n",
    "    \n",
    "    elif Current_Step == [0,4]:\n",
    "        Next_Step = Yellow_Red[np.random.randint(2)]\n",
    "        Reward = 2.5\n",
    "        return  Next_Step, Reward\n",
    "\n",
    "    Next_Step = Current_Step + Action\n",
    "\n",
    "    if Next_Step[0] < 0 or Next_Step[0] > 4 or Next_Step[1] < 0 or Next_Step[1] > 4:\n",
    "        Reward = -0.5\n",
    "        return Current_Step, Reward\n",
    "    Reward = 0\n",
    "\n",
    "    return Next_Step, Reward   "
   ]
  },
  {
   "cell_type": "markdown",
   "metadata": {},
   "source": [
    "#### (1) Bellman equations"
   ]
  },
  {
   "cell_type": "code",
   "execution_count": 57,
   "metadata": {},
   "outputs": [],
   "source": [
    "A = np.zeros((Grid_size**2, Grid_size**2))\n",
    "\n",
    "b = np.zeros(Grid_size**2)\n",
    "\n",
    "for i in range(Grid_size):\n",
    "    for j in range(Grid_size):\n",
    "        b_aux = 0\n",
    "        for k in range(step.shape[0]): \n",
    "            New_Step, Reward = Reward_And_Transition([i,j], step[k])\n",
    "            b_aux += Reward\n",
    "            if i == 0 and j == 4: #This if is because of the 0.5 probability from the green block\n",
    "                A[Grid_size*i + j, Grid_size*3 + 2] += gamma * 0.5 * 0.25\n",
    "                A[Grid_size*i + j, Grid_size*4 + 4] += gamma * 0.5 * 0.25\n",
    "            else:\n",
    "                A[Grid_size*i + j, Grid_size*New_Step[0] + New_Step[1]] += gamma * 0.25 \n",
    "        b_aux *= 0.25\n",
    "        b[Grid_size*i+j] = b_aux"
   ]
  },
  {
   "cell_type": "code",
   "execution_count": 63,
   "metadata": {},
   "outputs": [
    {
     "data": {
      "text/plain": [
       "array([[-1.05263,  4.     , -0.7193 ,  1.45614, -5.26316],\n",
       "       [-2.94737, -2.75439, -5.26316,  4.     ,  8.01754],\n",
       "       [ 6.22807,  4.21053, -0.52632, -4.21053, -7.2807 ],\n",
       "       [-8.01754, -2.94737,  5.26316,  3.80702,  2.94737],\n",
       "       [ 4.21053, -1.45614, -0.33333, -4.     ,  0.     ]])"
      ]
     },
     "execution_count": 63,
     "metadata": {},
     "output_type": "execute_result"
    }
   ],
   "source": [
    "V = np.linalg.solve(A, b).reshape((Grid_size,Grid_size))\n",
    "V.round(decimals=5)"
   ]
  },
  {
   "cell_type": "code",
   "execution_count": 83,
   "metadata": {},
   "outputs": [
    {
     "data": {
      "text/plain": [
       "(8.017543859649125, array([1, 4], dtype=int64))"
      ]
     },
     "execution_count": 83,
     "metadata": {},
     "output_type": "execute_result"
    }
   ],
   "source": [
    "np.max(V), np.argwhere(V == np.max(V))[0]"
   ]
  },
  {
   "cell_type": "markdown",
   "metadata": {},
   "source": [
    "#### (2) Iterative Policy Evaluation"
   ]
  },
  {
   "cell_type": "markdown",
   "metadata": {},
   "source": [
    "$V(s) \\lhd \\sum \\pi(a|s) \\sum P(s'|s,a)[R(s,a,s') + \\gamma V(s')]$ "
   ]
  },
  {
   "cell_type": "code",
   "execution_count": 15,
   "metadata": {},
   "outputs": [],
   "source": [
    "Value_Policy = np.zeros((Grid_size, Grid_size))\n",
    "threshold = 0.0001\n",
    "\n",
    "while 1:\n",
    "    delta = 0\n",
    "    for i in range(Grid_size):\n",
    "        for j in range(Grid_size):\n",
    "            Value_Policy_Current = Value_Policy[i,j]\n",
    "            aux = 0\n",
    "            #There are 4 directions            \n",
    "            for k in range(step.shape[0]): \n",
    "                New_Step, Reward = Reward_And_Transition([i,j], step[k])\n",
    "                aux += 0.25 * (Reward + gamma * Value_Policy[New_Step[0], New_Step[1]])\n",
    "            Value_Policy[i,j] = aux\n",
    "            delta = max(delta, abs(Value_Policy_Current - aux))\n",
    "    if delta < threshold:\n",
    "        break"
   ]
  },
  {
   "cell_type": "code",
   "execution_count": 66,
   "metadata": {},
   "outputs": [
    {
     "data": {
      "text/plain": [
       "array([[ 2.1710055 ,  4.73364232,  2.07036304,  1.26530797,  1.7790464 ],\n",
       "       [ 1.11815949,  1.78220762,  1.17415628,  0.73917291,  0.56241467],\n",
       "       [ 0.16297209,  0.47800865,  0.35202596,  0.1104237 , -0.18624681],\n",
       "       [-0.54673687, -0.28459072, -0.28037911, -0.43997606, -0.7444249 ],\n",
       "       [-1.10758287, -0.84921487, -0.80797594, -0.93807805, -1.23736921]])"
      ]
     },
     "execution_count": 66,
     "metadata": {},
     "output_type": "execute_result"
    }
   ],
   "source": [
    "Value_Policy"
   ]
  },
  {
   "cell_type": "code",
   "execution_count": 82,
   "metadata": {},
   "outputs": [
    {
     "data": {
      "text/plain": [
       "(4.733642320167359, array([0, 1], dtype=int64))"
      ]
     },
     "execution_count": 82,
     "metadata": {},
     "output_type": "execute_result"
    }
   ],
   "source": [
    "np.max(Value_Policy), np.argwhere(Value_Policy == np.max(Value_Policy))[0]"
   ]
  },
  {
   "attachments": {
    "image.png": {
     "image/png": "[encoded data removed]"
    }
   },
   "cell_type": "markdown",
   "metadata": {},
   "source": [
    "![image.png](attachment:image.png)"
   ]
  },
  {
   "cell_type": "markdown",
   "metadata": {},
   "source": [
    "#### (3) Value Iteration"
   ]
  },
  {
   "cell_type": "code",
   "execution_count": 75,
   "metadata": {},
   "outputs": [],
   "source": [
    "Value_Iteration = np.zeros((Grid_size, Grid_size))\n",
    "threshold = 1e-10\n",
    "\n",
    "while 1:\n",
    "    delta = 0\n",
    "    for i in range(Grid_size):\n",
    "        for j in range(Grid_size):\n",
    "            Value_Policy_Current = Value_Iteration[i,j]\n",
    "            aux = 0\n",
    "            #There are 4 directions            \n",
    "            for k in range(step.shape[0]): \n",
    "                New_Step, Reward = Reward_And_Transition([i,j], step[k])\n",
    "                aux = max(aux, 0.25 * (Reward + gamma * Value_Iteration[New_Step[0], New_Step[1]]))\n",
    "            Value_Iteration[i,j] = aux\n",
    "            delta = max(delta, abs(Value_Policy_Current - aux))\n",
    "    if delta < threshold:\n",
    "        break"
   ]
  },
  {
   "cell_type": "code",
   "execution_count": 76,
   "metadata": {},
   "outputs": [
    {
     "data": {
      "text/plain": [
       "array([[2.97100e-01, 1.25095e+00, 2.97100e-01, 1.48660e-01, 6.25950e-01],\n",
       "       [7.05600e-02, 2.97100e-01, 7.05600e-02, 3.53100e-02, 1.48660e-01],\n",
       "       [1.67600e-02, 7.05600e-02, 1.67600e-02, 8.39000e-03, 3.53100e-02],\n",
       "       [3.98000e-03, 1.67600e-02, 3.98000e-03, 1.99000e-03, 8.39000e-03],\n",
       "       [9.50000e-04, 3.98000e-03, 9.50000e-04, 4.70000e-04, 1.99000e-03]])"
      ]
     },
     "execution_count": 76,
     "metadata": {},
     "output_type": "execute_result"
    }
   ],
   "source": [
    "Value_Iteration.round(decimals=5)"
   ]
  },
  {
   "cell_type": "code",
   "execution_count": 81,
   "metadata": {},
   "outputs": [
    {
     "data": {
      "text/plain": [
       "(1.2509452710982731, array([0, 1], dtype=int64))"
      ]
     },
     "execution_count": 81,
     "metadata": {},
     "output_type": "execute_result"
    }
   ],
   "source": [
    "np.max(Value_Iteration), np.argwhere(Value_Iteration == np.max(Value_Iteration))[0]"
   ]
  }
 ],
 "metadata": {
  "kernelspec": {
   "display_name": "Python 3",
   "language": "python",
   "name": "python3"
  },
  "language_info": {
   "codemirror_mode": {
    "name": "ipython",
    "version": 3
   },
   "file_extension": ".py",
   "mimetype": "text/x-python",
   "name": "python",
   "nbconvert_exporter": "python",
   "pygments_lexer": "ipython3",
   "version": "3.9.12"
  }
 },
 "nbformat": 4,
 "nbformat_minor": 2
}
